{
 "cells": [
  {
   "cell_type": "code",
   "execution_count": 1,
   "metadata": {},
   "outputs": [],
   "source": [
    "import os\n",
    "os.chdir(\"/Volumes/Lab_Public/Yuan/durum_consensusMap_GBS-90K-SSR/RawMapfile\")"
   ]
  },
  {
   "cell_type": "code",
   "execution_count": 6,
   "metadata": {},
   "outputs": [],
   "source": [
    "population=\"DP527\"\n",
    "linkageMap=[]\n",
    "with open(\"DP527_GBS_90K.txt\",\"r\") as inputFile:\n",
    "    for line in inputFile:\n",
    "        linkageMap.append(line.strip().split(\"\\t\"))"
   ]
  },
  {
   "cell_type": "code",
   "execution_count": 7,
   "metadata": {},
   "outputs": [
    {
     "data": {
      "text/plain": [
       "['Population', 'LG', 'Marker', 'Position(cM)']"
      ]
     },
     "execution_count": 7,
     "metadata": {},
     "output_type": "execute_result"
    }
   ],
   "source": [
    "linkageMap[0]"
   ]
  },
  {
   "cell_type": "code",
   "execution_count": 8,
   "metadata": {},
   "outputs": [],
   "source": [
    "metaQTLFile=[]\n",
    "metaQTLFile.append([\"mapName=\"+population])\n",
    "metaQTLFile.append([\"Organism Genus=unknown\"])\n",
    "metaQTLFile.append([\"Organism Species=unknown\"])\n",
    "metaQTLFile.append([\"Parent=p1\"])\n",
    "metaQTLFile.append([\"Parent=p2\"])\n",
    "metaQTLFile.append([\"crossType=RI0\"])\n",
    "metaQTLFile.append([\"popSize=200\"])\n",
    "metaQTLFile.append([\"mappingCrossType=RI0\"])\n",
    "metaQTLFile.append([\"mappingFunction=kosambi\"])\n",
    "metaQTLFile.append([\"mapUnit=cM\"])\n",
    "metaQTLFile.append([\"mapExpansion=0\"])\n",
    "metaQTLFile.append([\"mapQuality=4\"])\n",
    "metaQTLFile.append([\"locusLocation=1\"])\n",
    "metaQTLFile.append([\"chr=1A\"])\n",
    "metaQTLFile.append([\"lg=1A\"])\n",
    "for lineNumber in range(1,len(linkageMap)-1):\n",
    "    if linkageMap[lineNumber][1]==linkageMap[lineNumber+1][1]:\n",
    "        metaQTLFile.append(linkageMap[lineNumber])\n",
    "    else:\n",
    "        metaQTLFile.append(linkageMap[lineNumber])\n",
    "        metaQTLFile.append([\"chr\"+\"=\"+linkageMap[lineNumber+1][1]])\n",
    "        metaQTLFile.append([\"lg\"+\"=\"+linkageMap[lineNumber+1][1]])\n"
   ]
  },
  {
   "cell_type": "code",
   "execution_count": 9,
   "metadata": {},
   "outputs": [],
   "source": [
    "with open(\"metaQTLfile_\"+population+\".txt\",\"w\") as outputf:\n",
    "    count=1\n",
    "    for line in metaQTLFile:\n",
    "        if(len(line)==1):\n",
    "            outputf.write(line[0]+\"\\n\")\n",
    "        else:\n",
    "            line.pop(0)\n",
    "            line.pop(0)\n",
    "            outputf.write(str(count)+\"\\t\"+\"\\t\".join(line)+\"\\n\")\n",
    "            count=count+1"
   ]
  },
  {
   "cell_type": "markdown",
   "metadata": {},
   "source": [
    "# The below is designed for MapMerge formatting\n"
   ]
  },
  {
   "cell_type": "code",
   "execution_count": 107,
   "metadata": {},
   "outputs": [],
   "source": [
    "population=\"DP527\"\n",
    "linkageMap=[]\n",
    "with open(\"DP527_90K_JM_Kosambi.txt\",\"r\") as inputFile:\n",
    "    for line in inputFile:\n",
    "        linkageMap.append(line.strip().split(\"\\t\"))"
   ]
  },
  {
   "cell_type": "code",
   "execution_count": 108,
   "metadata": {},
   "outputs": [
    {
     "data": {
      "text/plain": [
       "['Population', 'LG', 'Marker', 'Position(cM)']"
      ]
     },
     "execution_count": 108,
     "metadata": {},
     "output_type": "execute_result"
    }
   ],
   "source": [
    "linkageMap[0]"
   ]
  },
  {
   "cell_type": "code",
   "execution_count": 109,
   "metadata": {},
   "outputs": [],
   "source": [
    "metaQTLFile=[]\n",
    "metaQTLFile.append([\"group\\t1A\"])\n",
    "metaQTLFile.append([\";BEGINOFGROUP\"])\n",
    "for lineNumber in range(1,len(linkageMap)-1):\n",
    "    if linkageMap[lineNumber][1]==linkageMap[lineNumber+1][1]:\n",
    "        metaQTLFile.append(linkageMap[lineNumber][2:])\n",
    "    else:\n",
    "        metaQTLFile.append(linkageMap[lineNumber][2:])\n",
    "        metaQTLFile.append([\";ENDOFGROUP\"])\n",
    "        metaQTLFile.append([\"group\\t\"+linkageMap[lineNumber+1][1]])\n",
    "        metaQTLFile.append([\";BEGINOFGROUP\"])\n"
   ]
  },
  {
   "cell_type": "code",
   "execution_count": 110,
   "metadata": {},
   "outputs": [
    {
     "data": {
      "text/plain": [
       "[['group\\t1A'],\n",
       " [';BEGINOFGROUP'],\n",
       " ['IWB6058', '0'],\n",
       " ['IWB6234', '0'],\n",
       " ['IWB9867', '0.47'],\n",
       " ['IWB5769', '4.912'],\n",
       " ['IWB65373', '4.912'],\n",
       " ['IWB71424', '5.145'],\n",
       " ['IWB32244', '5.145'],\n",
       " ['IWB7470', '7.628'],\n",
       " ['IWB17894', '7.628'],\n",
       " ['IWB27228', '11.756'],\n",
       " ['IWB29039', '11.891'],\n",
       " ['IWB3087', '12.006'],\n",
       " ['IWB33789', '12.006'],\n",
       " ['IWB4762', '12.958'],\n",
       " ['IWB42976', '13.086'],\n",
       " ['IWB37531', '13.191'],\n",
       " ['IWA4241', '13.312'],\n",
       " ['IWA2269', '13.424'],\n",
       " ['IWB45715', '13.424'],\n",
       " ['IWB73129', '13.424'],\n",
       " ['IWB43053', '13.468'],\n",
       " ['IWB75039', '13.577'],\n",
       " ['IWB42196', '13.656'],\n",
       " ['IWB71461', '13.656'],\n",
       " ['IWB6155', '13.656'],\n",
       " ['IWB12795', '13.656'],\n",
       " ['IWB36707', '13.663'],\n",
       " ['IWB59783', '13.969'],\n",
       " ['IWB11162', '14.123'],\n",
       " ['IWB59361', '15.325'],\n",
       " ['IWB6999', '21.624'],\n",
       " ['IWB12589', '21.624'],\n",
       " ['IWB55413', '21.624'],\n",
       " ['IWB4186', '22.334'],\n",
       " ['IWB39517', '24.292'],\n",
       " ['IWB12206', '24.292'],\n",
       " ['IWB73271', '24.525'],\n",
       " ['IWB36389', '25.235'],\n",
       " ['IWB21573', '26.127'],\n",
       " ['IWB36835', '26.292'],\n",
       " ['IWB42450', '26.418'],\n",
       " ['IWB43004', '26.418'],\n",
       " ['IWA4678', '26.418'],\n",
       " ['IWB55079', '26.418'],\n",
       " ['IWB71172', '26.418'],\n",
       " ['IWB13009', '26.418'],\n",
       " ['IWB57361', '45.696'],\n",
       " ['IWB31763', '45.696'],\n",
       " ['IWB50401', '45.696'],\n",
       " ['IWB59245', '45.696'],\n",
       " ['IWB66061', '51.043'],\n",
       " ['IWA4008', '51.043'],\n",
       " ['IWB14138', '51.043'],\n",
       " ['IWB24259', '51.276'],\n",
       " ['IWB41059', '51.746'],\n",
       " ['IWB21708', '51.746'],\n",
       " ['IWB3682', '51.98'],\n",
       " ['IWB3334', '51.98'],\n",
       " ['IWB40979', '51.98'],\n",
       " ['IWB6471', '52.213'],\n",
       " ['IWB22792', '52.213'],\n",
       " ['IWB73652', '52.463'],\n",
       " ['IWB61685', '53.487'],\n",
       " ['IWB31932', '53.985'],\n",
       " ['IWB68107', '55.002'],\n",
       " ['IWB66891', '56.018'],\n",
       " ['IWB66889', '56.018'],\n",
       " ['IWB6538', '57.079'],\n",
       " ['IWB73401', '57.596'],\n",
       " ['IWB22052', '58.877'],\n",
       " ['IWB10025', '58.884'],\n",
       " ['IWB45930', '58.884'],\n",
       " ['IWB59951', '58.884'],\n",
       " ['IWB72042', '59.118'],\n",
       " ['IWB26888', '59.118'],\n",
       " ['IWB74997', '59.118'],\n",
       " ['IWB47241', '59.118'],\n",
       " ['IWB74010', '59.122'],\n",
       " ['IWA1583', '59.829'],\n",
       " ['IWB21167', '62.048'],\n",
       " ['IWB52278', '63.499'],\n",
       " ['IWB20438', '63.499'],\n",
       " ['IWA1580', '63.499'],\n",
       " ['IWB45088', '63.732'],\n",
       " ['IWB45874', '63.966'],\n",
       " ['IWA492', '63.966'],\n",
       " ['IWB28131', '64.199'],\n",
       " ['IWB2429', '64.904'],\n",
       " ['IWB63226', '64.909'],\n",
       " ['IWB46905', '64.909'],\n",
       " ['IWB69365', '66.867'],\n",
       " ['IWB57895', '68.066'],\n",
       " ['IWB43194', '68.066'],\n",
       " ['IWB22559', '68.066'],\n",
       " ['IWB8898', '68.299'],\n",
       " ['IWB59770', '68.533'],\n",
       " ['IWA4852', '68.766'],\n",
       " ['IWB50882', '69'],\n",
       " ['IWB15064', '69'],\n",
       " ['IWB30530', '69'],\n",
       " ['IWB14647', '69'],\n",
       " ['IWB31652', '69'],\n",
       " ['IWA8026', '69.233'],\n",
       " ['IWB45811', '69.233'],\n",
       " ['IWB27889', '69.467'],\n",
       " ['IWB56828', '69.7'],\n",
       " ['IWA6985', '69.7'],\n",
       " ['IWB45374', '69.7'],\n",
       " ['IWA3536', '69.7'],\n",
       " ['IWA3538', '69.7'],\n",
       " ['IWB65705', '69.934'],\n",
       " ['IWB4472', '69.934'],\n",
       " ['IWB20955', '69.934'],\n",
       " ['IWB20954', '69.934'],\n",
       " ['IWB35080', '69.934'],\n",
       " ['IWA3665', '70.404'],\n",
       " ['IWA5011', '70.404'],\n",
       " ['IWB14772', '70.404'],\n",
       " ['IWA3957', '70.404'],\n",
       " ['IWA3956', '70.404'],\n",
       " ['IWB27064', '70.404'],\n",
       " ['IWA3955', '70.404'],\n",
       " ['IWB24291', '70.404'],\n",
       " ['IWA5631', '71.113'],\n",
       " ['IWB46432', '71.113'],\n",
       " ['IWB72825', '71.823'],\n",
       " ['IWB3707', '71.823'],\n",
       " ['IWB31924', '71.823'],\n",
       " ['IWB28355', '71.823'],\n",
       " ['IWB31350', '72.056'],\n",
       " ['IWB61264', '72.056'],\n",
       " ['IWB64464', '74.015'],\n",
       " ['IWB71397', '74.485'],\n",
       " ['IWB60037', '74.718'],\n",
       " ['IWB52241', '74.718'],\n",
       " ['IWB35117', '74.718'],\n",
       " ['IWB20671', '74.718'],\n",
       " ['IWB72019', '75.428'],\n",
       " ['IWB34823', '77.646'],\n",
       " ['IWB21382', '85.282'],\n",
       " ['IWA2995', '85.752'],\n",
       " ['IWA7173', '85.752'],\n",
       " ['IWA5740', '85.986'],\n",
       " ['IWB55805', '87.434'],\n",
       " ['IWB58903', '88.633'],\n",
       " ['IWA5692', '88.633'],\n",
       " ['IWA5839', '89.103'],\n",
       " ['IWB10042', '89.103'],\n",
       " ['IWA4179', '89.103'],\n",
       " ['IWB11516', '89.352'],\n",
       " ['IWB380', '91.817'],\n",
       " ['IWB55442', '91.817'],\n",
       " ['IWB43096', '91.817'],\n",
       " ['IWB52858', '92.287'],\n",
       " ['IWB35473', '92.287'],\n",
       " ['IWB52651', '92.287'],\n",
       " ['IWA2394', '92.997'],\n",
       " ['IWB70352', '94.698'],\n",
       " ['IWB50788', '94.698'],\n",
       " ['IWB6769', '94.698'],\n",
       " ['IWB11883', '98.276'],\n",
       " ['IWA6553', '98.509'],\n",
       " ['IWA5169', '98.509'],\n",
       " ['IWB7079', '98.509'],\n",
       " ['IWB56065', '99.708'],\n",
       " ['IWB34701', '99.708'],\n",
       " ['IWA6595', '99.708'],\n",
       " ['IWB44038', '100.418'],\n",
       " ['IWB59527', '100.418'],\n",
       " ['IWB6944', '100.418'],\n",
       " ['IWB11087', '100.418'],\n",
       " ['IWB11708', '100.418'],\n",
       " ['IWB7753', '100.418'],\n",
       " ['IWB6974', '100.418'],\n",
       " ['IWB46448', '102.376'],\n",
       " ['IWB65398', '102.376'],\n",
       " ['IWA3406', '102.376'],\n",
       " ['IWA6729', '105.126'],\n",
       " ['IWB65551', '105.126'],\n",
       " ['IWB43588', '106.325'],\n",
       " ['IWB58118', '106.325'],\n",
       " ['IWB23141', '106.325'],\n",
       " ['IWB55', '109.771'],\n",
       " ['IWB8166', '112.37'],\n",
       " ['IWB6354', '112.615'],\n",
       " ['IWB13379', '112.615'],\n",
       " ['IWB9545', '112.615'],\n",
       " ['IWB9631', '112.615'],\n",
       " ['IWB65938', '113.814'],\n",
       " ['IWA6934', '113.814'],\n",
       " ['IWB72589', '113.814'],\n",
       " ['IWA4080', '113.814'],\n",
       " ['IWB1137', '113.814'],\n",
       " ['IWB71862', '113.814'],\n",
       " ['IWB73451', '113.814'],\n",
       " ['IWB72585', '113.814'],\n",
       " ['IWB65987', '113.814'],\n",
       " ['IWB69793', '113.814']]"
      ]
     },
     "execution_count": 110,
     "metadata": {},
     "output_type": "execute_result"
    }
   ],
   "source": [
    "metaQTLFile[0:200]"
   ]
  },
  {
   "cell_type": "code",
   "execution_count": 111,
   "metadata": {},
   "outputs": [],
   "source": [
    "with open(\"MapMergefile_\"+population+\".txt\",\"w\") as outputf:\n",
    "    for line in metaQTLFile:\n",
    "        if(len(line)==1):\n",
    "            outputf.write(line[0]+\"\\n\")\n",
    "        else:\n",
    "            outputf.write(\"\\t\".join(line)+\"\\n\")"
   ]
  },
  {
   "cell_type": "code",
   "execution_count": null,
   "metadata": {},
   "outputs": [],
   "source": []
  },
  {
   "cell_type": "code",
   "execution_count": null,
   "metadata": {},
   "outputs": [],
   "source": []
  }
 ],
 "metadata": {
  "kernelspec": {
   "display_name": "Python 3",
   "language": "python",
   "name": "python3"
  },
  "language_info": {
   "codemirror_mode": {
    "name": "ipython",
    "version": 3
   },
   "file_extension": ".py",
   "mimetype": "text/x-python",
   "name": "python",
   "nbconvert_exporter": "python",
   "pygments_lexer": "ipython3",
   "version": "3.6.7"
  }
 },
 "nbformat": 4,
 "nbformat_minor": 2
}
